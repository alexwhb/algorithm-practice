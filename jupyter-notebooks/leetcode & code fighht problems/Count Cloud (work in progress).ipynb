{
 "cells": [
  {
   "cell_type": "markdown",
   "metadata": {},
   "source": [
    "# Cout Clouds\n",
    "\n",
    "Given a 2D grid skyMap composed of '1's (clouds) and '0's (clear sky), count the number of clouds. A cloud is surrounded by clear sky, and is formed by connecting adjacent clouds horizontally or vertically. You can assume that all four edges of the skyMap are surrounded by clear sky.\n",
    "\n",
    "\n",
    "Example\n",
    "\n",
    "For\n",
    "```\n",
    "skyMap = [['0', '1', '1', '0', '1'],\n",
    "          ['0', '1', '1', '1', '1'],\n",
    "          ['0', '0', '0', '0', '1'],\n",
    "          ['1', '0', '0', '1', '1']]\n",
    "```\n",
    "the output should be\n",
    "countClouds(skyMap) = 2;\n",
    "\n",
    "For\n",
    "\n",
    "```\n",
    "skyMap = [['0', '1', '0', '0', '1'],\n",
    "          ['1', '1', '0', '0', '0'],\n",
    "          ['0', '0', '1', '0', '1'],\n",
    "          ['0', '0', '1', '1', '0'],\n",
    "          ['1', '0', '1', '1', '0']]\n",
    "```\n",
    "the output should be\n",
    "countClouds(skyMap) = 5.\n",
    "\n",
    "\n",
    "Input/Output\n",
    "```\n",
    "[time limit] 4000ms (py3)\n",
    "[input] array.array.char skyMap\n",
    "```\n",
    "A 2D grid that represents a map of the sky, as described above.\n",
    "\n",
    "Guaranteed constraints:\n",
    "\n",
    "```\n",
    "0 ≤ skyMap.length ≤ 300,\n",
    "0 ≤ skyMap[i].length ≤ 300.\n",
    "```\n",
    "\n",
    "[output] integer\n",
    "\n",
    "The number of clouds in the given skyMap, as described above.\n",
    "\n",
    "\n"
   ]
  },
  {
   "cell_type": "code",
   "execution_count": 3,
   "metadata": {},
   "outputs": [
    {
     "data": {
      "text/plain": [
       "5"
      ]
     },
     "execution_count": 3,
     "metadata": {},
     "output_type": "execute_result"
    }
   ],
   "source": [
    "skyMap = [['0', '1', '1', '0', '1'],\n",
    "          ['0', '1', '1', '1', '1'],\n",
    "          ['0', '0', '0', '0', '1'],\n",
    "          ['1', '0', '0', '1', '1']]\n"
   ]
  },
  {
   "cell_type": "code",
   "execution_count": 19,
   "metadata": {},
   "outputs": [
    {
     "name": "stdout",
     "output_type": "stream",
     "text": [
      "0\n"
     ]
    }
   ],
   "source": [
    "def get_left(skyMap, i, j):\n",
    "    i = i - 1\n",
    "    if i < 0:\n",
    "        return False\n",
    "    return skyMap[j][i]\n",
    "\n",
    "def get_right(skyMap, i, j):\n",
    "    i = i + 1\n",
    "    if i > len(skyMap[0]) - 1:\n",
    "        return False\n",
    "    return skyMap[j][i]\n",
    "\n",
    "def get_up(skyMap, i, j):\n",
    "    j = j - 1\n",
    "    if j < 0:\n",
    "        return False\n",
    "    return skyMap[j][i]\n",
    "\n",
    "def get_down(skyMap, i, j):\n",
    "    j = j + 1 \n",
    "    if j > len(skyMap)-1:\n",
    "        return False\n",
    "    return skyMap[j][i]\n",
    "\n",
    "def countClouds(skyMap):\n",
    "    pass\n",
    "\n",
    "print(get_right(skyMap, 1, 3))\n"
   ]
  },
  {
   "cell_type": "code",
   "execution_count": null,
   "metadata": {
    "collapsed": true
   },
   "outputs": [],
   "source": []
  }
 ],
 "metadata": {
  "kernelspec": {
   "display_name": "Python 3",
   "language": "python",
   "name": "python3"
  },
  "language_info": {
   "codemirror_mode": {
    "name": "ipython",
    "version": 3
   },
   "file_extension": ".py",
   "mimetype": "text/x-python",
   "name": "python",
   "nbconvert_exporter": "python",
   "pygments_lexer": "ipython3",
   "version": "3.4.3"
  }
 },
 "nbformat": 4,
 "nbformat_minor": 2
}
