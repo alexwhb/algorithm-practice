{
 "cells": [
  {
   "cell_type": "code",
   "execution_count": 12,
   "metadata": {
    "collapsed": false
   },
   "outputs": [],
   "source": [
    "from __future__ import division\n",
    "from sympy import *\n",
    "\n",
    "x, y, z, t = symbols('x y z t')\n",
    "k, m, n = symbols('k m n', integer=True)\n",
    "f, g, h = symbols('f g h', cls=Function)\n",
    "\n",
    "init_printing(use_latex='mathjax') # this makes the output look like real math symbols"
   ]
  },
  {
   "cell_type": "code",
   "execution_count": 14,
   "metadata": {
    "collapsed": false
   },
   "outputs": [
    {
     "data": {
      "text/latex": [
       "$$4 x^{3} - 2 x \\sin{\\left (x^{2} \\right )}$$"
      ],
      "text/plain": [
       "   3          ⎛ 2⎞\n",
       "4⋅x  - 2⋅x⋅sin⎝x ⎠"
      ]
     },
     "execution_count": 14,
     "metadata": {},
     "output_type": "execute_result"
    }
   ],
   "source": [
    "diff(x**4 + cos(x**2), x)"
   ]
  },
  {
   "cell_type": "code",
   "execution_count": 15,
   "metadata": {
    "collapsed": false
   },
   "outputs": [
    {
     "data": {
      "text/latex": [
       "$$\\frac{x^{5}}{5} + \\frac{\\sqrt{2} \\sqrt{\\pi} C\\left(\\frac{\\sqrt{2} x}{\\sqrt{\\pi}}\\right) \\Gamma{\\left(\\frac{1}{4} \\right)}}{8 \\Gamma{\\left(\\frac{5}{4} \\right)}}$$"
      ],
      "text/plain": [
       "                   ⎛√2⋅x⎞       \n",
       " 5   √2⋅√π⋅fresnelc⎜────⎟⋅Γ(1/4)\n",
       "x                  ⎝ √π ⎠       \n",
       "── + ───────────────────────────\n",
       "5              8⋅Γ(5/4)         "
      ]
     },
     "execution_count": 15,
     "metadata": {},
     "output_type": "execute_result"
    }
   ],
   "source": [
    "integrate(x**4+ cos(x**2), x)"
   ]
  },
  {
   "cell_type": "code",
   "execution_count": 17,
   "metadata": {
    "collapsed": false
   },
   "outputs": [],
   "source": [
    "test = integrate(x**4+ cos(x**2)*sin(x**2), x)"
   ]
  },
  {
   "cell_type": "code",
   "execution_count": 18,
   "metadata": {
    "collapsed": false
   },
   "outputs": [
    {
     "data": {
      "text/latex": [
       "$$\\frac{x^{5}}{5} - \\frac{3 \\sqrt{\\pi} S\\left(\\frac{2 x}{\\sqrt{\\pi}}\\right)}{16 \\Gamma{\\left(\\frac{1}{4} \\right)}} \\Gamma{\\left(- \\frac{3}{4} \\right)}$$"
      ],
      "text/plain": [
       "                  ⎛2⋅x⎞        \n",
       " 5   3⋅√π⋅fresnels⎜───⎟⋅Γ(-3/4)\n",
       "x                 ⎝ √π⎠        \n",
       "── - ──────────────────────────\n",
       "5            16⋅Γ(1/4)         "
      ]
     },
     "execution_count": 18,
     "metadata": {},
     "output_type": "execute_result"
    }
   ],
   "source": [
    "test"
   ]
  },
  {
   "cell_type": "code",
   "execution_count": 19,
   "metadata": {
    "collapsed": false
   },
   "outputs": [
    {
     "data": {
      "text/latex": [
       "$$2 \\sqrt{2}$$"
      ],
      "text/plain": [
       "2⋅√2"
      ]
     },
     "execution_count": 19,
     "metadata": {},
     "output_type": "execute_result"
    }
   ],
   "source": [
    "sqrt(8)"
   ]
  },
  {
   "cell_type": "code",
   "execution_count": 20,
   "metadata": {
    "collapsed": false
   },
   "outputs": [
    {
     "data": {
      "text/latex": [
       "$$x + y^{2}$$"
      ],
      "text/plain": [
       "     2\n",
       "x + y "
      ]
     },
     "execution_count": 20,
     "metadata": {},
     "output_type": "execute_result"
    }
   ],
   "source": [
    "x+y**2"
   ]
  },
  {
   "cell_type": "code",
   "execution_count": 21,
   "metadata": {
    "collapsed": false
   },
   "outputs": [
    {
     "data": {
      "text/latex": [
       "$$-1$$"
      ],
      "text/plain": [
       "-1"
      ]
     },
     "execution_count": 21,
     "metadata": {},
     "output_type": "execute_result"
    }
   ],
   "source": [
    "I**2"
   ]
  },
  {
   "cell_type": "code",
   "execution_count": 22,
   "metadata": {
    "collapsed": false
   },
   "outputs": [
    {
     "data": {
      "text/latex": [
       "$$\\frac{1}{55}$$"
      ],
      "text/plain": [
       "1/55"
      ]
     },
     "execution_count": 22,
     "metadata": {},
     "output_type": "execute_result"
    }
   ],
   "source": [
    "Rational(1, 55)"
   ]
  },
  {
   "cell_type": "code",
   "execution_count": 25,
   "metadata": {
    "collapsed": false
   },
   "outputs": [
    {
     "data": {
      "text/latex": [
       "$$\\frac{3517}{17985}$$"
      ],
      "text/plain": [
       " 3517\n",
       "─────\n",
       "17985"
      ]
     },
     "execution_count": 25,
     "metadata": {},
     "output_type": "execute_result"
    }
   ],
   "source": [
    "rat = Rational(1, 55) + Rational(58, 327)\n",
    "rat"
   ]
  },
  {
   "cell_type": "markdown",
   "metadata": {},
   "source": [
    "### N() does a numarica eval"
   ]
  },
  {
   "cell_type": "code",
   "execution_count": 26,
   "metadata": {
    "collapsed": false
   },
   "outputs": [
    {
     "data": {
      "text/latex": [
       "$$0.195551848762858$$"
      ],
      "text/plain": [
       "0.195551848762858"
      ]
     },
     "execution_count": 26,
     "metadata": {},
     "output_type": "execute_result"
    }
   ],
   "source": [
    "N(rat)"
   ]
  },
  {
   "cell_type": "code",
   "execution_count": 28,
   "metadata": {
    "collapsed": false
   },
   "outputs": [
    {
     "data": {
      "text/latex": [
       "$$3.141592653589793238462643383279502884197169399375105820974944592307816406286208998628034825342117067982148086513282306647093844609550582231725359408128481117450284102701938521105559644622948954930381964428810975665933446128475648233786783165271201909145648566923460348610454326648213393607260249141273724587006606315588174881520920962829254091715364367892590360011330530548820466521384146951941511609433057270365759591953092186117381932611793105118548074462379962749567351885752724891227938183011949129833673362440656643086021394946395224737190702179860943702770539217176293176752384674818467669405132000568127145263560827785771342757789609173637178721468440901224953430146549585371050792279689258923542019956112129021960864034418159813629774771309960518707211349999998372978049951059731732816096318595024459455346908302642522308253344685035261931188171010003137838752886587533208381420617177669147303598253490428755468731159562863882353787593751957781857780532171226806613001927876611195909216420198$$"
      ],
      "text/plain": [
       "3.1415926535897932384626433832795028841971693993751058209749445923078164062862\n",
       "089986280348253421170679821480865132823066470938446095505822317253594081284811\n",
       "174502841027019385211055596446229489549303819644288109756659334461284756482337\n",
       "867831652712019091456485669234603486104543266482133936072602491412737245870066\n",
       "063155881748815209209628292540917153643678925903600113305305488204665213841469\n",
       "519415116094330572703657595919530921861173819326117931051185480744623799627495\n",
       "673518857527248912279381830119491298336733624406566430860213949463952247371907\n",
       "021798609437027705392171762931767523846748184676694051320005681271452635608277\n",
       "857713427577896091736371787214684409012249534301465495853710507922796892589235\n",
       "420199561121290219608640344181598136297747713099605187072113499999983729780499\n",
       "510597317328160963185950244594553469083026425223082533446850352619311881710100\n",
       "031378387528865875332083814206171776691473035982534904287554687311595628638823\n",
       "53787593751957781857780532171226806613001927876611195909216420198"
      ]
     },
     "execution_count": 28,
     "metadata": {},
     "output_type": "execute_result"
    }
   ],
   "source": [
    "N(pi, 1000) # 1000 is how many decimals I want"
   ]
  },
  {
   "cell_type": "code",
   "execution_count": 30,
   "metadata": {
    "collapsed": false
   },
   "outputs": [
    {
     "data": {
      "text/latex": [
       "$$x^{2} + 2 x + 1$$"
      ],
      "text/plain": [
       " 2          \n",
       "x  + 2⋅x + 1"
      ]
     },
     "execution_count": 30,
     "metadata": {},
     "output_type": "execute_result"
    }
   ],
   "source": [
    "expr = x**2 + 2*x + 1\n",
    "expr"
   ]
  },
  {
   "cell_type": "code",
   "execution_count": 31,
   "metadata": {
    "collapsed": false
   },
   "outputs": [
    {
     "data": {
      "text/latex": [
       "$$121$$"
      ],
      "text/plain": [
       "121"
      ]
     },
     "execution_count": 31,
     "metadata": {},
     "output_type": "execute_result"
    }
   ],
   "source": [
    "expr.subs(x, 10)"
   ]
  },
  {
   "cell_type": "code",
   "execution_count": 33,
   "metadata": {
    "collapsed": false
   },
   "outputs": [
    {
     "data": {
      "text/latex": [
       "$$\\pi x^{2}$$"
      ],
      "text/plain": [
       "   2\n",
       "π⋅x "
      ]
     },
     "execution_count": 33,
     "metadata": {},
     "output_type": "execute_result"
    }
   ],
   "source": [
    "expr = pi * x**2\n",
    "expr"
   ]
  },
  {
   "cell_type": "code",
   "execution_count": 40,
   "metadata": {
    "collapsed": false
   },
   "outputs": [
    {
     "data": {
      "text/latex": [
       "$$100 \\pi$$"
      ],
      "text/plain": [
       "100⋅π"
      ]
     },
     "execution_count": 40,
     "metadata": {},
     "output_type": "execute_result"
    }
   ],
   "source": [
    "expr.subs(x, 10)"
   ]
  },
  {
   "cell_type": "code",
   "execution_count": 41,
   "metadata": {
    "collapsed": false
   },
   "outputs": [
    {
     "data": {
      "text/latex": [
       "$$314.159265358979$$"
      ],
      "text/plain": [
       "314.159265358979"
      ]
     },
     "execution_count": 41,
     "metadata": {},
     "output_type": "execute_result"
    }
   ],
   "source": [
    "N(_)"
   ]
  },
  {
   "cell_type": "code",
   "execution_count": 51,
   "metadata": {
    "collapsed": false
   },
   "outputs": [
    {
     "data": {
      "text/latex": [
       "$$\\left(x + y + 5\\right)^{10}$$"
      ],
      "text/plain": [
       "           10\n",
       "(x + y + 5)  "
      ]
     },
     "execution_count": 51,
     "metadata": {},
     "output_type": "execute_result"
    }
   ],
   "source": [
    "expr = (x+y + 5)**10\n",
    "expr"
   ]
  },
  {
   "cell_type": "code",
   "execution_count": 52,
   "metadata": {
    "collapsed": false
   },
   "outputs": [
    {
     "data": {
      "text/latex": [
       "$$x^{10} + 10 x^{9} y + 50 x^{9} + 45 x^{8} y^{2} + 450 x^{8} y + 1125 x^{8} + 120 x^{7} y^{3} + 1800 x^{7} y^{2} + 9000 x^{7} y + 15000 x^{7} + 210 x^{6} y^{4} + 4200 x^{6} y^{3} + 31500 x^{6} y^{2} + 105000 x^{6} y + 131250 x^{6} + 252 x^{5} y^{5} + 6300 x^{5} y^{4} + 63000 x^{5} y^{3} + 315000 x^{5} y^{2} + 787500 x^{5} y + 787500 x^{5} + 210 x^{4} y^{6} + 6300 x^{4} y^{5} + 78750 x^{4} y^{4} + 525000 x^{4} y^{3} + 1968750 x^{4} y^{2} + 3937500 x^{4} y + 3281250 x^{4} + 120 x^{3} y^{7} + 4200 x^{3} y^{6} + 63000 x^{3} y^{5} + 525000 x^{3} y^{4} + 2625000 x^{3} y^{3} + 7875000 x^{3} y^{2} + 13125000 x^{3} y + 9375000 x^{3} + 45 x^{2} y^{8} + 1800 x^{2} y^{7} + 31500 x^{2} y^{6} + 315000 x^{2} y^{5} + 1968750 x^{2} y^{4} + 7875000 x^{2} y^{3} + 19687500 x^{2} y^{2} + 28125000 x^{2} y + 17578125 x^{2} + 10 x y^{9} + 450 x y^{8} + 9000 x y^{7} + 105000 x y^{6} + 787500 x y^{5} + 3937500 x y^{4} + 13125000 x y^{3} + 28125000 x y^{2} + 35156250 x y + 19531250 x + y^{10} + 50 y^{9} + 1125 y^{8} + 15000 y^{7} + 131250 y^{6} + 787500 y^{5} + 3281250 y^{4} + 9375000 y^{3} + 17578125 y^{2} + 19531250 y + 9765625$$"
      ],
      "text/plain": [
       " 10       9         9       8  2        8           8        7  3         7  2\n",
       "x   + 10⋅x ⋅y + 50⋅x  + 45⋅x ⋅y  + 450⋅x ⋅y + 1125⋅x  + 120⋅x ⋅y  + 1800⋅x ⋅y \n",
       "\n",
       "         7            7        6  4         6  3          6  2           6    \n",
       " + 9000⋅x ⋅y + 15000⋅x  + 210⋅x ⋅y  + 4200⋅x ⋅y  + 31500⋅x ⋅y  + 105000⋅x ⋅y +\n",
       "\n",
       "         6        5  5         5  4          5  3           5  2           5  \n",
       " 131250⋅x  + 252⋅x ⋅y  + 6300⋅x ⋅y  + 63000⋅x ⋅y  + 315000⋅x ⋅y  + 787500⋅x ⋅y\n",
       "\n",
       "           5        4  6         4  5          4  4           4  3            \n",
       " + 787500⋅x  + 210⋅x ⋅y  + 6300⋅x ⋅y  + 78750⋅x ⋅y  + 525000⋅x ⋅y  + 1968750⋅x\n",
       "\n",
       "4  2            4              4        3  7         3  6          3  5       \n",
       " ⋅y  + 3937500⋅x ⋅y + 3281250⋅x  + 120⋅x ⋅y  + 4200⋅x ⋅y  + 63000⋅x ⋅y  + 5250\n",
       "\n",
       "    3  4            3  3            3  2             3              3       2 \n",
       "00⋅x ⋅y  + 2625000⋅x ⋅y  + 7875000⋅x ⋅y  + 13125000⋅x ⋅y + 9375000⋅x  + 45⋅x ⋅\n",
       "\n",
       " 8         2  7          2  6           2  5            2  4            2  3  \n",
       "y  + 1800⋅x ⋅y  + 31500⋅x ⋅y  + 315000⋅x ⋅y  + 1968750⋅x ⋅y  + 7875000⋅x ⋅y  +\n",
       "\n",
       "           2  2             2               2         9          8           7\n",
       " 19687500⋅x ⋅y  + 28125000⋅x ⋅y + 17578125⋅x  + 10⋅x⋅y  + 450⋅x⋅y  + 9000⋅x⋅y \n",
       "\n",
       "             6             5              4               3               2   \n",
       " + 105000⋅x⋅y  + 787500⋅x⋅y  + 3937500⋅x⋅y  + 13125000⋅x⋅y  + 28125000⋅x⋅y  + \n",
       "\n",
       "                             10       9         8          7           6      \n",
       "35156250⋅x⋅y + 19531250⋅x + y   + 50⋅y  + 1125⋅y  + 15000⋅y  + 131250⋅y  + 787\n",
       "\n",
       "     5            4            3             2                       \n",
       "500⋅y  + 3281250⋅y  + 9375000⋅y  + 17578125⋅y  + 19531250⋅y + 9765625"
      ]
     },
     "execution_count": 52,
     "metadata": {},
     "output_type": "execute_result"
    }
   ],
   "source": [
    "expand(expr)"
   ]
  },
  {
   "cell_type": "code",
   "execution_count": 53,
   "metadata": {
    "collapsed": false
   },
   "outputs": [
    {
     "data": {
      "text/latex": [
       "$$\\left(x + y + 5\\right)^{10}$$"
      ],
      "text/plain": [
       "           10\n",
       "(x + y + 5)  "
      ]
     },
     "execution_count": 53,
     "metadata": {},
     "output_type": "execute_result"
    }
   ],
   "source": [
    "factor(_)"
   ]
  },
  {
   "cell_type": "code",
   "execution_count": 59,
   "metadata": {
    "collapsed": false
   },
   "outputs": [
    {
     "data": {
      "text/latex": [
       "$$\\frac{x^{12}}{132} + x^{11} \\left(\\frac{y}{11} + \\frac{5}{11}\\right) + x^{10} \\left(\\frac{y^{2}}{2} + 5 y + \\frac{25}{2}\\right) + x^{9} \\left(\\frac{5 y^{3}}{3} + 25 y^{2} + 125 y + \\frac{625}{3}\\right) + x^{8} \\left(\\frac{15 y^{4}}{4} + 75 y^{3} + \\frac{1125 y^{2}}{2} + 1875 y + \\frac{9375}{4}\\right) + x^{7} \\left(6 y^{5} + 150 y^{4} + 1500 y^{3} + 7500 y^{2} + 18750 y + 18750\\right) + x^{6} \\left(7 y^{6} + 210 y^{5} + 2625 y^{4} + 17500 y^{3} + 65625 y^{2} + 131250 y + 109375\\right) + x^{5} \\left(6 y^{7} + 210 y^{6} + 3150 y^{5} + 26250 y^{4} + 131250 y^{3} + 393750 y^{2} + 656250 y + 468750\\right) + x^{4} \\left(\\frac{15 y^{8}}{4} + 150 y^{7} + 2625 y^{6} + 26250 y^{5} + \\frac{328125 y^{4}}{2} + 656250 y^{3} + 1640625 y^{2} + 2343750 y + \\frac{5859375}{4}\\right) + x^{3} \\left(\\frac{5 y^{9}}{3} + 75 y^{8} + 1500 y^{7} + 17500 y^{6} + 131250 y^{5} + 656250 y^{4} + 2187500 y^{3} + 4687500 y^{2} + 5859375 y + \\frac{9765625}{3}\\right) + x^{2} \\left(\\frac{y^{10}}{2} + 25 y^{9} + \\frac{1125 y^{8}}{2} + 7500 y^{7} + 65625 y^{6} + 393750 y^{5} + 1640625 y^{4} + 4687500 y^{3} + \\frac{17578125 y^{2}}{2} + 9765625 y + \\frac{9765625}{2}\\right)$$"
      ],
      "text/plain": [
       " 12                       ⎛ 2           ⎞      ⎛   3                      ⎞   \n",
       "x      11 ⎛y    5 ⎞    10 ⎜y          25⎟    9 ⎜5⋅y        2           625⎟   \n",
       "─── + x  ⋅⎜── + ──⎟ + x  ⋅⎜── + 5⋅y + ──⎟ + x ⋅⎜──── + 25⋅y  + 125⋅y + ───⎟ + \n",
       "132       ⎝11   11⎠       ⎝2          2 ⎠      ⎝ 3                      3 ⎠   \n",
       "\n",
       "   ⎛    4                 2                ⎞                                  \n",
       " 8 ⎜15⋅y        3   1125⋅y             9375⎟    7 ⎛   5        4         3    \n",
       "x ⋅⎜───── + 75⋅y  + ─────── + 1875⋅y + ────⎟ + x ⋅⎝6⋅y  + 150⋅y  + 1500⋅y  + 7\n",
       "   ⎝  4                2                4  ⎠                                  \n",
       "\n",
       "                                                                              \n",
       "     2                  ⎞    6 ⎛   6        5         4          3          2 \n",
       "500⋅y  + 18750⋅y + 18750⎠ + x ⋅⎝7⋅y  + 210⋅y  + 2625⋅y  + 17500⋅y  + 65625⋅y  \n",
       "                                                                              \n",
       "\n",
       "                                                                              \n",
       "                   ⎞    5 ⎛   7        6         5          4           3     \n",
       "+ 131250⋅y + 109375⎠ + x ⋅⎝6⋅y  + 210⋅y  + 3150⋅y  + 26250⋅y  + 131250⋅y  + 39\n",
       "                                                                              \n",
       "\n",
       "                                  ⎛    8                                      \n",
       "      2                    ⎞    4 ⎜15⋅y         7         6          5   32812\n",
       "3750⋅y  + 656250⋅y + 468750⎠ + x ⋅⎜───── + 150⋅y  + 2625⋅y  + 26250⋅y  + ─────\n",
       "                                  ⎝  4                                       2\n",
       "\n",
       "   4                                               ⎞      ⎛   9               \n",
       "5⋅y            3            2               5859375⎟    3 ⎜5⋅y        8       \n",
       "──── + 656250⋅y  + 1640625⋅y  + 2343750⋅y + ───────⎟ + x ⋅⎜──── + 75⋅y  + 1500\n",
       "                                               4   ⎠      ⎝ 3                 \n",
       "\n",
       "                                                                              \n",
       "  7          6           5           4            3            2              \n",
       "⋅y  + 17500⋅y  + 131250⋅y  + 656250⋅y  + 2187500⋅y  + 4687500⋅y  + 5859375⋅y +\n",
       "                                                                              \n",
       "\n",
       "        ⎞      ⎛ 10                 8                                         \n",
       " 9765625⎟    2 ⎜y         9   1125⋅y          7          6           5        \n",
       " ───────⎟ + x ⋅⎜─── + 25⋅y  + ─────── + 7500⋅y  + 65625⋅y  + 393750⋅y  + 16406\n",
       "    3   ⎠      ⎝ 2               2                                            \n",
       "\n",
       "                               2                      ⎞\n",
       "    4            3   17578125⋅y                9765625⎟\n",
       "25⋅y  + 4687500⋅y  + ─────────── + 9765625⋅y + ───────⎟\n",
       "                          2                       2   ⎠"
      ]
     },
     "execution_count": 59,
     "metadata": {},
     "output_type": "execute_result"
    }
   ],
   "source": [
    "new_expr = integrate(_, x)\n",
    "new_expr"
   ]
  },
  {
   "cell_type": "code",
   "execution_count": 62,
   "metadata": {
    "collapsed": false
   },
   "outputs": [
    {
     "data": {
      "text/latex": [
       "$$\\frac{10383422873}{44}$$"
      ],
      "text/plain": [
       "10383422873\n",
       "───────────\n",
       "     44    "
      ]
     },
     "execution_count": 62,
     "metadata": {},
     "output_type": "execute_result"
    }
   ],
   "source": [
    "temp = new_expr.subs(x, 1)\n",
    "temp.subs(y, 2)"
   ]
  },
  {
   "cell_type": "code",
   "execution_count": 65,
   "metadata": {
    "collapsed": false
   },
   "outputs": [
    {
     "data": {
      "text/latex": [
       "$$\\frac{y^{10}}{2} + \\frac{80 y^{9}}{3} + \\frac{2565 y^{8}}{4} + 9156 y^{7} + 85967 y^{6} + 554616 y^{5} + \\frac{9959865 y^{4}}{4} + \\frac{23044730 y^{3}}{3} + \\frac{31169301 y^{2}}{2} + \\frac{206547056 y}{11} + \\frac{1346704211}{132}$$"
      ],
      "text/plain": [
       " 10       9         8                                             4           \n",
       "y     80⋅y    2565⋅y          7          6           5   9959865⋅y    23044730\n",
       "─── + ───── + ─────── + 9156⋅y  + 85967⋅y  + 554616⋅y  + ────────── + ────────\n",
       " 2      3        4                                           4             3  \n",
       "\n",
       "  3             2                           \n",
       "⋅y    31169301⋅y    206547056⋅y   1346704211\n",
       "─── + ─────────── + ─────────── + ──────────\n",
       "           2             11          132    "
      ]
     },
     "execution_count": 65,
     "metadata": {},
     "output_type": "execute_result"
    }
   ],
   "source": []
  },
  {
   "cell_type": "code",
   "execution_count": 66,
   "metadata": {
    "collapsed": false
   },
   "outputs": [
    {
     "data": {
      "text/latex": [
       "$$\\frac{\\sin{\\left (x \\right )}}{\\cos{\\left (x \\right )}}$$"
      ],
      "text/plain": [
       "sin(x)\n",
       "──────\n",
       "cos(x)"
      ]
     },
     "execution_count": 66,
     "metadata": {},
     "output_type": "execute_result"
    }
   ],
   "source": [
    "sin(x)/cos(x)"
   ]
  },
  {
   "cell_type": "code",
   "execution_count": 67,
   "metadata": {
    "collapsed": false
   },
   "outputs": [
    {
     "data": {
      "text/latex": [
       "$$\\tan{\\left (x \\right )}$$"
      ],
      "text/plain": [
       "tan(x)"
      ]
     },
     "execution_count": 67,
     "metadata": {},
     "output_type": "execute_result"
    }
   ],
   "source": [
    "simplify(_)"
   ]
  },
  {
   "cell_type": "code",
   "execution_count": 70,
   "metadata": {
    "collapsed": false
   },
   "outputs": [
    {
     "data": {
      "text/latex": [
       "$$\\frac{1}{x^{2} + 2 x}$$"
      ],
      "text/plain": [
       "   1    \n",
       "────────\n",
       " 2      \n",
       "x  + 2⋅x"
      ]
     },
     "execution_count": 70,
     "metadata": {},
     "output_type": "execute_result"
    }
   ],
   "source": [
    "expr = 1/(x**2 + 2*x)\n",
    "expr"
   ]
  },
  {
   "cell_type": "code",
   "execution_count": 71,
   "metadata": {
    "collapsed": false
   },
   "outputs": [
    {
     "data": {
      "text/latex": [
       "$$- \\frac{1}{2 x + 4} + \\frac{1}{2 x}$$"
      ],
      "text/plain": [
       "      1        1 \n",
       "- ───────── + ───\n",
       "  2⋅(x + 2)   2⋅x"
      ]
     },
     "execution_count": 71,
     "metadata": {},
     "output_type": "execute_result"
    }
   ],
   "source": [
    "apart(expr)"
   ]
  },
  {
   "cell_type": "code",
   "execution_count": 72,
   "metadata": {
    "collapsed": false
   },
   "outputs": [
    {
     "data": {
      "text/latex": [
       "$$\\frac{1}{x \\left(x + 2\\right)}$$"
      ],
      "text/plain": [
       "    1    \n",
       "─────────\n",
       "x⋅(x + 2)"
      ]
     },
     "execution_count": 72,
     "metadata": {},
     "output_type": "execute_result"
    }
   ],
   "source": [
    "together(_)"
   ]
  },
  {
   "cell_type": "code",
   "execution_count": 73,
   "metadata": {
    "collapsed": false
   },
   "outputs": [
    {
     "data": {
      "text/latex": [
       "$$\\cos{\\left (x \\right )}$$"
      ],
      "text/plain": [
       "cos(x)"
      ]
     },
     "execution_count": 73,
     "metadata": {},
     "output_type": "execute_result"
    }
   ],
   "source": [
    "diff(sin(x), x)"
   ]
  },
  {
   "cell_type": "code",
   "execution_count": 74,
   "metadata": {
    "collapsed": false
   },
   "outputs": [
    {
     "data": {
      "text/latex": [
       "$$\\int_{0}^{\\pi} \\sin{\\left (x \\right )}\\, dx$$"
      ],
      "text/plain": [
       "π          \n",
       "⌠          \n",
       "⎮ sin(x) dx\n",
       "⌡          \n",
       "0          "
      ]
     },
     "execution_count": 74,
     "metadata": {},
     "output_type": "execute_result"
    }
   ],
   "source": [
    "Integral(sin(x), (x, 0, pi))"
   ]
  },
  {
   "cell_type": "code",
   "execution_count": 75,
   "metadata": {
    "collapsed": false
   },
   "outputs": [
    {
     "data": {
      "text/latex": [
       "$$2.0$$"
      ],
      "text/plain": [
       "2.00000000000000"
      ]
     },
     "execution_count": 75,
     "metadata": {},
     "output_type": "execute_result"
    }
   ],
   "source": [
    "N(_)"
   ]
  },
  {
   "cell_type": "code",
   "execution_count": 77,
   "metadata": {
    "collapsed": false
   },
   "outputs": [
    {
     "data": {
      "text/latex": [
       "$$\\sum_{x=1}^{10} \\frac{1}{x^{2} + 2 x}$$"
      ],
      "text/plain": [
       "  10          \n",
       " ____         \n",
       " ╲            \n",
       "  ╲      1    \n",
       "   ╲  ────────\n",
       "   ╱   2      \n",
       "  ╱   x  + 2⋅x\n",
       " ╱            \n",
       " ‾‾‾‾         \n",
       "x = 1         "
      ]
     },
     "execution_count": 77,
     "metadata": {},
     "output_type": "execute_result"
    }
   ],
   "source": [
    "expr = Sum(1/(x**2 + 2*x), (x, 1, 10))\n",
    "expr"
   ]
  },
  {
   "cell_type": "code",
   "execution_count": 78,
   "metadata": {
    "collapsed": false
   },
   "outputs": [
    {
     "data": {
      "text/latex": [
       "$$0.662878787878788$$"
      ],
      "text/plain": [
       "0.662878787878788"
      ]
     },
     "execution_count": 78,
     "metadata": {},
     "output_type": "execute_result"
    }
   ],
   "source": [
    "N(_)"
   ]
  },
  {
   "cell_type": "code",
   "execution_count": 79,
   "metadata": {
    "collapsed": false
   },
   "outputs": [
    {
     "data": {
      "text/latex": [
       "$$\\frac{175}{264}$$"
      ],
      "text/plain": [
       "175\n",
       "───\n",
       "264"
      ]
     },
     "execution_count": 79,
     "metadata": {},
     "output_type": "execute_result"
    }
   ],
   "source": [
    "expr.doit()"
   ]
  },
  {
   "cell_type": "code",
   "execution_count": 81,
   "metadata": {
    "collapsed": false
   },
   "outputs": [
    {
     "data": {
      "text/latex": [
       "$$\\prod_{x=1}^{10} \\frac{1}{x^{2} + 2 x}$$"
      ],
      "text/plain": [
       "    10             \n",
       "┬────────┬         \n",
       "│        │    1    \n",
       "│        │ ────────\n",
       "│        │  2      \n",
       "│        │ x  + 2⋅x\n",
       "│        │         \n",
       "  x = 1            "
      ]
     },
     "execution_count": 81,
     "metadata": {},
     "output_type": "execute_result"
    }
   ],
   "source": [
    "expr = Product(1/(x**2 + 2*x), (x, 1, 10))\n",
    "expr"
   ]
  },
  {
   "cell_type": "code",
   "execution_count": 82,
   "metadata": {
    "collapsed": false
   },
   "outputs": [
    {
     "data": {
      "text/latex": [
       "$$\\frac{1}{869100503040000}$$"
      ],
      "text/plain": [
       "1/869100503040000"
      ]
     },
     "execution_count": 82,
     "metadata": {},
     "output_type": "execute_result"
    }
   ],
   "source": [
    "expr.doit()"
   ]
  },
  {
   "cell_type": "code",
   "execution_count": 84,
   "metadata": {
    "collapsed": false
   },
   "outputs": [
    {
     "data": {
      "text/latex": [
       "$$2 x + 10$$"
      ],
      "text/plain": [
       "2⋅x + 10"
      ]
     },
     "execution_count": 84,
     "metadata": {},
     "output_type": "execute_result"
    }
   ],
   "source": [
    "expr = 2*x + 10\n",
    "expr"
   ]
  },
  {
   "cell_type": "code",
   "execution_count": 85,
   "metadata": {
    "collapsed": false
   },
   "outputs": [
    {
     "data": {
      "text/latex": [
       "$$\\left [ -5\\right ]$$"
      ],
      "text/plain": [
       "[-5]"
      ]
     },
     "execution_count": 85,
     "metadata": {},
     "output_type": "execute_result"
    }
   ],
   "source": [
    "solve(expr)"
   ]
  },
  {
   "cell_type": "code",
   "execution_count": 87,
   "metadata": {
    "collapsed": false
   },
   "outputs": [
    {
     "data": {
      "text/latex": [
       "$$x^{2} - 10$$"
      ],
      "text/plain": [
       " 2     \n",
       "x  - 10"
      ]
     },
     "execution_count": 87,
     "metadata": {},
     "output_type": "execute_result"
    }
   ],
   "source": [
    "expr = x**2 - 10\n",
    "expr\n"
   ]
  },
  {
   "cell_type": "code",
   "execution_count": 88,
   "metadata": {
    "collapsed": false
   },
   "outputs": [
    {
     "data": {
      "text/latex": [
       "$$\\left [ - \\sqrt{10}, \\quad \\sqrt{10}\\right ]$$"
      ],
      "text/plain": [
       "[-√10, √10]"
      ]
     },
     "execution_count": 88,
     "metadata": {},
     "output_type": "execute_result"
    }
   ],
   "source": [
    "solve(expr)"
   ]
  },
  {
   "cell_type": "markdown",
   "metadata": {},
   "source": [
    "### Solve systems of equations!!! :D"
   ]
  },
  {
   "cell_type": "code",
   "execution_count": 90,
   "metadata": {
    "collapsed": true
   },
   "outputs": [],
   "source": [
    "expr_1 = 2*x + y\n",
    "expr_2 = 2*y - x + 21"
   ]
  },
  {
   "cell_type": "code",
   "execution_count": 91,
   "metadata": {
    "collapsed": false
   },
   "outputs": [
    {
     "data": {
      "text/latex": [
       "$$\\left \\{ x : \\frac{21}{5}, \\quad y : - \\frac{42}{5}\\right \\}$$"
      ],
      "text/plain": [
       "{x: 21/5, y: -42/5}"
      ]
     },
     "execution_count": 91,
     "metadata": {},
     "output_type": "execute_result"
    }
   ],
   "source": [
    "solve([expr_1, expr_2], (x, y))"
   ]
  },
  {
   "cell_type": "markdown",
   "metadata": {},
   "source": [
    "# Units "
   ]
  },
  {
   "cell_type": "code",
   "execution_count": 92,
   "metadata": {
    "collapsed": true
   },
   "outputs": [],
   "source": [
    "from sympy.physics import units as u"
   ]
  },
  {
   "cell_type": "code",
   "execution_count": 93,
   "metadata": {
    "collapsed": false
   },
   "outputs": [
    {
     "data": {
      "text/latex": [
       "$$5.0 \\cdot 10^{-9} kg$$"
      ],
      "text/plain": [
       "5.0e-9⋅kg"
      ]
     },
     "execution_count": 93,
     "metadata": {},
     "output_type": "execute_result"
    }
   ],
   "source": [
    "5. * u.microgram"
   ]
  },
  {
   "cell_type": "code",
   "execution_count": 94,
   "metadata": {
    "collapsed": false
   },
   "outputs": [
    {
     "data": {
      "text/latex": [
       "$$0.00508 m$$"
      ],
      "text/plain": [
       "0.00508⋅m"
      ]
     },
     "execution_count": 94,
     "metadata": {},
     "output_type": "execute_result"
    }
   ],
   "source": [
    "1./5 * u.inch"
   ]
  },
  {
   "cell_type": "code",
   "execution_count": 96,
   "metadata": {
    "collapsed": false
   },
   "outputs": [
    {
     "data": {
      "text/latex": [
       "$$1.0 \\cdot 10^{-9}$$"
      ],
      "text/plain": [
       "1.00000000000000e-9"
      ]
     },
     "execution_count": 96,
     "metadata": {},
     "output_type": "execute_result"
    }
   ],
   "source": [
    "1. * u.nano"
   ]
  },
  {
   "cell_type": "code",
   "execution_count": 97,
   "metadata": {
    "collapsed": false
   },
   "outputs": [
    {
     "data": {
      "text/latex": [
       "$$\\frac{kg m^{2}}{s^{3}}$$"
      ],
      "text/plain": [
       "    2\n",
       "kg⋅m \n",
       "─────\n",
       "   3 \n",
       "  s  "
      ]
     },
     "execution_count": 97,
     "metadata": {},
     "output_type": "execute_result"
    }
   ],
   "source": [
    "u.watt"
   ]
  },
  {
   "cell_type": "code",
   "execution_count": 99,
   "metadata": {
    "collapsed": false
   },
   "outputs": [
    {
     "data": {
      "text/latex": [
       "$$\\frac{1.0 m^{2}}{s^{3}} kg$$"
      ],
      "text/plain": [
       "        2\n",
       "1.0⋅kg⋅m \n",
       "─────────\n",
       "     3   \n",
       "    s    "
      ]
     },
     "execution_count": 99,
     "metadata": {},
     "output_type": "execute_result"
    }
   ],
   "source": [
    "1. * u.watts"
   ]
  },
  {
   "cell_type": "code",
   "execution_count": 100,
   "metadata": {
    "collapsed": false
   },
   "outputs": [
    {
     "data": {
      "text/latex": [
       "$$\\frac{kg}{602214179000000000000000000}$$"
      ],
      "text/plain": [
       "             kg            \n",
       "───────────────────────────\n",
       "602214179000000000000000000"
      ]
     },
     "execution_count": 100,
     "metadata": {},
     "output_type": "execute_result"
    }
   ],
   "source": []
  },
  {
   "cell_type": "code",
   "execution_count": 101,
   "metadata": {
    "collapsed": false
   },
   "outputs": [
    {
     "data": {
      "text/latex": [
       "$$1.609344$$"
      ],
      "text/plain": [
       "1.60934400000000"
      ]
     },
     "execution_count": 101,
     "metadata": {},
     "output_type": "execute_result"
    }
   ],
   "source": [
    "kmph = u.km / u.hour\n",
    "mph = u.mile / u.hour\n",
    "\n",
    "N(mph/kmph)"
   ]
  },
  {
   "cell_type": "markdown",
   "metadata": {},
   "source": [
    "# Plotting"
   ]
  },
  {
   "cell_type": "code",
   "execution_count": 102,
   "metadata": {
    "collapsed": true
   },
   "outputs": [],
   "source": [
    "from sympy.plotting import plot, plot_parametric"
   ]
  },
  {
   "cell_type": "code",
   "execution_count": 105,
   "metadata": {
    "collapsed": false
   },
   "outputs": [
    {
     "data": {
      "image/png": "[encoded data removed]",
      "text/plain": [
       "<matplotlib.figure.Figure at 0x106124198>"
      ]
     },
     "metadata": {},
     "output_type": "display_data"
    },
    {
     "data": {
      "text/plain": [
       "<sympy.plotting.plot.Plot at 0x106124630>"
      ]
     },
     "execution_count": 105,
     "metadata": {},
     "output_type": "execute_result"
    }
   ],
   "source": [
    "expr = sin(2*sin(x**3))\n",
    "plot(expr, (x, 0, 5))"
   ]
  },
  {
   "cell_type": "code",
   "execution_count": 106,
   "metadata": {
    "collapsed": true
   },
   "outputs": [],
   "source": [
    "expr = diff(x**5 + sin(x), x)"
   ]
  },
  {
   "cell_type": "code",
   "execution_count": 107,
   "metadata": {
    "collapsed": false
   },
   "outputs": [
    {
     "data": {
      "text/latex": [
       "$$5 x^{4} + \\cos{\\left (x \\right )}$$"
      ],
      "text/plain": [
       "   4         \n",
       "5⋅x  + cos(x)"
      ]
     },
     "execution_count": 107,
     "metadata": {},
     "output_type": "execute_result"
    }
   ],
   "source": [
    "expr"
   ]
  },
  {
   "cell_type": "code",
   "execution_count": 108,
   "metadata": {
    "collapsed": false
   },
   "outputs": [
    {
     "data": {
      "image/png": "[encoded data removed]",
      "text/plain": [
       "<matplotlib.figure.Figure at 0x1080f5cc0>"
      ]
     },
     "metadata": {},
     "output_type": "display_data"
    },
    {
     "data": {
      "text/plain": [
       "<sympy.plotting.plot.Plot at 0x1080f5d68>"
      ]
     },
     "execution_count": 108,
     "metadata": {},
     "output_type": "execute_result"
    }
   ],
   "source": [
    "plot(expr, (x, -5, 5))"
   ]
  },
  {
   "cell_type": "code",
   "execution_count": 109,
   "metadata": {
    "collapsed": false
   },
   "outputs": [
    {
     "data": {
      "text/latex": [
       "$$3 \\sqrt{3} + \\frac{26}{3}$$"
      ],
      "text/plain": [
       "3⋅√3 + 26/3"
      ]
     },
     "execution_count": 109,
     "metadata": {},
     "output_type": "execute_result"
    }
   ],
   "source": [
    "def sympy_expr(x_val):\n",
    "    expr = x**2 + sqrt(3)*x - Rational(1, 3)\n",
    "    return expr.subs(x, x_val)\n",
    "sympy_expr(3)"
   ]
  },
  {
   "cell_type": "code",
   "execution_count": 110,
   "metadata": {
    "collapsed": true
   },
   "outputs": [],
   "source": [
    "import numpy as np\n",
    "import pandas as pd\n",
    "import matplotlib.pyplot as plt"
   ]
  },
  {
   "cell_type": "code",
   "execution_count": 111,
   "metadata": {
    "collapsed": true
   },
   "outputs": [],
   "source": [
    "list1 = np.arange(1, 1000)\n",
    "list2 = pd.Series(list1)"
   ]
  },
  {
   "cell_type": "code",
   "execution_count": 112,
   "metadata": {
    "collapsed": false
   },
   "outputs": [
    {
     "name": "stdout",
     "output_type": "stream",
     "text": [
      "1 loop, best of 3: 618 ms per loop\n",
      "1 loop, best of 3: 633 ms per loop\n"
     ]
    }
   ],
   "source": [
    "%timeit [sympy_expr(item) for item in list1]\n",
    "%timeit [sympy_expr(item) for item in list2]"
   ]
  },
  {
   "cell_type": "code",
   "execution_count": 113,
   "metadata": {
    "collapsed": false
   },
   "outputs": [
    {
     "name": "stdout",
     "output_type": "stream",
     "text": [
      "1 loop, best of 3: 455 ms per loop\n",
      "1 loop, best of 3: 450 ms per loop\n"
     ]
    }
   ],
   "source": [
    "%timeit np.vectorize(sympy_expr)(list1)\n",
    "%timeit list2.apply(sympy_expr)"
   ]
  },
  {
   "cell_type": "code",
   "execution_count": 114,
   "metadata": {
    "collapsed": true
   },
   "outputs": [],
   "source": [
    "expr = x**2 + sqrt(3)*x - Rational(1, 3)\n",
    "lf = lambdify(x, expr)"
   ]
  },
  {
   "cell_type": "code",
   "execution_count": 115,
   "metadata": {
    "collapsed": false
   },
   "outputs": [
    {
     "name": "stdout",
     "output_type": "stream",
     "text": [
      "The slowest run took 43.16 times longer than the fastest. This could mean that an intermediate result is being cached.\n",
      "100000 loops, best of 3: 7.35 µs per loop\n",
      "1000 loops, best of 3: 282 µs per loop\n"
     ]
    }
   ],
   "source": [
    "%timeit lf(list1)\n",
    "%timeit lf(list2)"
   ]
  },
  {
   "cell_type": "code",
   "execution_count": 116,
   "metadata": {
    "collapsed": false
   },
   "outputs": [
    {
     "data": {
      "image/png": "[encoded data removed]",
      "text/plain": [
       "<matplotlib.figure.Figure at 0x109689be0>"
      ]
     },
     "metadata": {},
     "output_type": "display_data"
    }
   ],
   "source": [
    "fig = plt.figure()\n",
    "axes = fig.add_subplot(111)\n",
    "\n",
    "x_vals = np.linspace(-5., 5.)\n",
    "y_vals = lf(x_vals)\n",
    "\n",
    "axes.grid()\n",
    "axes.plot(x_vals, y_vals)\n",
    "\n",
    "plt.show()"
   ]
  },
  {
   "cell_type": "code",
   "execution_count": null,
   "metadata": {
    "collapsed": true
   },
   "outputs": [],
   "source": []
  }
 ],
 "metadata": {
  "kernelspec": {
   "display_name": "Python 3",
   "language": "python",
   "name": "python3"
  },
  "language_info": {
   "codemirror_mode": {
    "name": "ipython",
    "version": 3
   },
   "file_extension": ".py",
   "mimetype": "text/x-python",
   "name": "python",
   "nbconvert_exporter": "python",
   "pygments_lexer": "ipython3",
   "version": "3.5.1"
  }
 },
 "nbformat": 4,
 "nbformat_minor": 1
}
