{
 "cells": [
  {
   "cell_type": "code",
   "execution_count": 27,
   "metadata": {
    "collapsed": false
   },
   "outputs": [],
   "source": [
    "test = '49276d206b696c6c696e6720796f757220627261696e206c696b65206120706f69736f6e6f7573206d757368726f6f6d'"
   ]
  },
  {
   "cell_type": "code",
   "execution_count": 18,
   "metadata": {
    "collapsed": true
   },
   "outputs": [],
   "source": [
    "value_map = {'0': 0,\n",
    "         '1': 1,\n",
    "         '2': 2,\n",
    "         '3': 3,\n",
    "         '4': 4,\n",
    "         '5': 5,\n",
    "         '6': 6,\n",
    "         '7': 7,\n",
    "         '8': 8,\n",
    "         '9': 9,\n",
    "         'A': 10,\n",
    "         'B': 11,\n",
    "         'C': 12,\n",
    "         'D': 13,\n",
    "         'E': 14,\n",
    "         'F': 15,\n",
    "         'G': 16,\n",
    "         'H': 17,\n",
    "         'I': 18,\n",
    "         'J': 19,\n",
    "         'K': 20,\n",
    "         'L': 21,\n",
    "         'M': 22,\n",
    "         'N': 23,\n",
    "         'O': 24,\n",
    "         'P': 25,\n",
    "         'Q': 26,\n",
    "         'R': 27,\n",
    "         'S': 28,\n",
    "         'T': 29,\n",
    "         'U': 30,\n",
    "         'V': 31,\n",
    "         'W': 32,\n",
    "         'X': 33,\n",
    "         'Y': 34,\n",
    "         'Z': 35,\n",
    "         'a': 36,\n",
    "         'b': 37,\n",
    "         'c': 38,\n",
    "         'd': 39,\n",
    "         'e': 40,\n",
    "         'f': 41,\n",
    "         'g': 42,\n",
    "         'h': 43,\n",
    "         'i': 44,\n",
    "         'j': 45,\n",
    "         'k': 46,\n",
    "         'l': 47,\n",
    "         'm': 48,\n",
    "         'n': 49,\n",
    "         'o': 50,\n",
    "         'p': 51,\n",
    "         'q': 52,\n",
    "         'r': 53,\n",
    "         's': 54,\n",
    "         't': 55,\n",
    "         'u': 56,\n",
    "         'v': 57,\n",
    "         'w': 58,\n",
    "         'x': 59,\n",
    "         'y': 60,\n",
    "         'z': 61,\n",
    "         '!': 62,\n",
    "         '\"': 63,\n",
    "         '#': 64,\n",
    "         '$': 65,\n",
    "         '%': 66,\n",
    "         '&': 67,\n",
    "         \"'\": 68,\n",
    "         '(': 69,\n",
    "         ')': 70,\n",
    "         '*': 71,\n",
    "         '+': 72,\n",
    "         ',': 73,\n",
    "         '-': 74,\n",
    "         '.': 75,\n",
    "         '/': 76,\n",
    "         ':': 77,\n",
    "         ';': 78,\n",
    "         '<': 79,\n",
    "         '=': 80,\n",
    "         '>': 81,\n",
    "         '?': 82,\n",
    "         '@': 83,\n",
    "         '[': 84,\n",
    "         '\\\\': 85,\n",
    "         ']': 86,\n",
    "         '^': 87,\n",
    "         '_': 88,\n",
    "         '`': 89,\n",
    "         '{': 90,\n",
    "         '|': 91,\n",
    "         '}': 92,\n",
    "         '~': 93}\n"
   ]
  },
  {
   "cell_type": "code",
   "execution_count": 49,
   "metadata": {
    "collapsed": true
   },
   "outputs": [],
   "source": [
    "def strToBase(value, base):\n",
    "    output = ''\n",
    "    temp_val = 0\n",
    "    for index, char in enumerate(value):\n",
    "        temp_val += value_map[char] \n",
    "        \n",
    "        if temp_val < base and index < len(value):\n",
    "            continue\n",
    "        \n",
    "        while(temp_val > 1):\n",
    "            temp_val = temp_val/base\n",
    "            new = temp_val % base\n",
    "            \n",
    "            last_output = output\n",
    "            output = value_map[new] + last_output\n",
    "        \n",
    "    return output"
   ]
  },
  {
   "cell_type": "code",
   "execution_count": 51,
   "metadata": {
    "collapsed": false
   },
   "outputs": [
    {
     "ename": "KeyError",
     "evalue": "1.046875",
     "output_type": "error",
     "traceback": [
      "\u001b[0;31m---------------------------------------------------------------------------\u001b[0m",
      "\u001b[0;31mKeyError\u001b[0m                                  Traceback (most recent call last)",
      "\u001b[0;32m<ipython-input-51-35fbf0745d9e>\u001b[0m in \u001b[0;36m<module>\u001b[0;34m()\u001b[0m\n\u001b[0;32m----> 1\u001b[0;31m \u001b[0mstrToBase\u001b[0m\u001b[1;33m(\u001b[0m\u001b[0mtest\u001b[0m\u001b[1;33m,\u001b[0m \u001b[1;36m64\u001b[0m\u001b[1;33m)\u001b[0m\u001b[1;33m\u001b[0m\u001b[0m\n\u001b[0m",
      "\u001b[0;32m<ipython-input-49-8fc8848dbac1>\u001b[0m in \u001b[0;36mstrToBase\u001b[0;34m(value, base)\u001b[0m\n\u001b[1;32m     13\u001b[0m \u001b[1;33m\u001b[0m\u001b[0m\n\u001b[1;32m     14\u001b[0m             \u001b[0mlast_output\u001b[0m \u001b[1;33m=\u001b[0m \u001b[0moutput\u001b[0m\u001b[1;33m\u001b[0m\u001b[0m\n\u001b[0;32m---> 15\u001b[0;31m             \u001b[0moutput\u001b[0m \u001b[1;33m=\u001b[0m \u001b[0mvalue_map\u001b[0m\u001b[1;33m[\u001b[0m\u001b[0mnew\u001b[0m\u001b[1;33m]\u001b[0m \u001b[1;33m+\u001b[0m \u001b[0mlast_output\u001b[0m\u001b[1;33m\u001b[0m\u001b[0m\n\u001b[0m\u001b[1;32m     16\u001b[0m \u001b[1;33m\u001b[0m\u001b[0m\n\u001b[1;32m     17\u001b[0m     \u001b[1;32mreturn\u001b[0m \u001b[0moutput\u001b[0m\u001b[1;33m\u001b[0m\u001b[0m\n",
      "\u001b[0;31mKeyError\u001b[0m: 1.046875"
     ]
    }
   ],
   "source": [
    "strToBase(test, 64)"
   ]
  },
  {
   "cell_type": "code",
   "execution_count": 35,
   "metadata": {
    "collapsed": false
   },
   "outputs": [
    {
     "data": {
      "text/plain": [
       "2.0"
      ]
     },
     "execution_count": 35,
     "metadata": {},
     "output_type": "execute_result"
    }
   ],
   "source": [
    "10/5"
   ]
  },
  {
   "cell_type": "code",
   "execution_count": 33,
   "metadata": {
    "collapsed": false
   },
   "outputs": [
    {
     "data": {
      "text/plain": [
       "0"
      ]
     },
     "execution_count": 33,
     "metadata": {},
     "output_type": "execute_result"
    }
   ],
   "source": []
  },
  {
   "cell_type": "markdown",
   "metadata": {},
   "source": [
    "# The logic when converting to any base goes like this:\n",
    "\n",
    "if the number is greater than the base devide that number by the base. put the remander of that devison at the beginning of the output, then take the rest of the output of the devision as the input for the next loop unitl you get that number down to a size less than the base, then you simply tack that last value on to the end of the output. \n",
    "\n",
    "\n",
    "so with 15 to base 2: \n",
    "\n",
    "\n",
    "\n",
    "15/2 = 7 with a remander of 1\n",
    "so our output starts with 1\n",
    "7/2 = 3 with a remander of 1\n",
    "so now we have 11\n",
    "3/2 = 1 with a remander of 1\n",
    "so we have 111 \n",
    "the final 1 is less then our base so we tack that on to the beginning... our final output is 1111 == 15 \n",
    "\n",
    "this same logic applys for any other base. \n",
    "\n",
    "\n",
    "# converting dec to large base:\n",
    "we create a large map up to what ever base we'd like to create. \n",
    "this map consists of letters and symbols. a = 10, b = 11, c = 12 etc. \n",
    "we take the input number%base = far right number \n",
    "number = number/base  \n",
    "unless number was less than base then we put that number out frount.. we have to map any number past 9 to some character. \n",
    "\n",
    "\n",
    "# convert large base back to dec\n",
    "multiply each character by the base it came from. \n",
    "example... if we are converting from hex.. FF2\n",
    "\n",
    "15 * 16^2 + 15*16^1 + 2 * 16^0 \n",
    "\n",
    "\n",
    "\n"
   ]
  },
  {
   "cell_type": "code",
   "execution_count": null,
   "metadata": {
    "collapsed": true
   },
   "outputs": [],
   "source": []
  }
 ],
 "metadata": {
  "kernelspec": {
   "display_name": "Python 3",
   "language": "python",
   "name": "python3"
  },
  "language_info": {
   "codemirror_mode": {
    "name": "ipython",
    "version": 3
   },
   "file_extension": ".py",
   "mimetype": "text/x-python",
   "name": "python",
   "nbconvert_exporter": "python",
   "pygments_lexer": "ipython3",
   "version": "3.5.1"
  }
 },
 "nbformat": 4,
 "nbformat_minor": 1
}
