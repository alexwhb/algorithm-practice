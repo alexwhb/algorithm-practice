{
 "cells": [
  {
   "cell_type": "markdown",
   "metadata": {},
   "source": [
    "# This is mostly for missilanious learning\n",
    "\n",
    "### Simpple outline of how a spell corrector works\n",
    "[here](http://norvig.com/spell-correct.html) is a very intresting artical on how a basic spell check system is written. This system is around 90% accuret. All it really does is looks at two things... the probiblity distrobution of the friquency a perticular word is used in the englesh language, and the a spelling correction with as simple as possible an ajustment. It starts witha one letter ajustment. That letter can be anywhere in the word, and it looks up in the dictinary to see if that's a real word... it will return a list of real words that are as close a match as possible, ballencing that with the frequency used in the englishe language.. for instance 'the' is one of the most used words in eglish, so if you typed thew you're going to have a liely chance of \"the\" as the suggestion. \n",
    "\n",
    "### Intro into NLP\n",
    "[here](http://www.vikparuchuri.com/blog/natural-language-processing-tutorial/) is an intresting introduction into writing a NLP. \n",
    "\n"
   ]
  },
  {
   "cell_type": "code",
   "execution_count": null,
   "metadata": {
    "collapsed": true
   },
   "outputs": [],
   "source": []
  }
 ],
 "metadata": {
  "kernelspec": {
   "display_name": "Python 3",
   "language": "python",
   "name": "python3"
  },
  "language_info": {
   "codemirror_mode": {
    "name": "ipython",
    "version": 3
   },
   "file_extension": ".py",
   "mimetype": "text/x-python",
   "name": "python",
   "nbconvert_exporter": "python",
   "pygments_lexer": "ipython3",
   "version": "3.5.1"
  }
 },
 "nbformat": 4,
 "nbformat_minor": 1
}
