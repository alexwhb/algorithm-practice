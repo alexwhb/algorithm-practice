{
 "cells": [
  {
   "cell_type": "code",
   "execution_count": 17,
   "metadata": {
    "collapsed": false
   },
   "outputs": [
    {
     "name": "stdout",
     "output_type": "stream",
     "text": [
      "Counter({'chelsea/quin gets madeleine a gift': 534, 'alex gets addi a gift': 527, 'hayley/andrew gets addi a gift': 524, 'madeleine gets chelsea/quin a gift': 516, 'madeleine gets hayley/andrew a gift': 515, 'addi gets chelsea/quin a gift': 509, 'alex gets hayley/andrew a gift': 508, 'madeleine gets alex a gift': 507, 'hayley/andrew gets alex a gift': 502, 'addi gets alex a gift': 502, 'addi gets madeleine a gift': 502, 'hayley/andrew gets chelsea/quin a gift': 492, 'chelsea/quin gets hayley/andrew a gift': 490, 'chelsea/quin gets alex a gift': 489, 'chelsea/quin gets addi a gift': 487, 'addi gets hayley/andrew a gift': 487, 'alex gets chelsea/quin a gift': 483, 'alex gets madeleine a gift': 482, 'hayley/andrew gets madeleine a gift': 482, 'madeleine gets addi a gift': 462})\n"
     ]
    }
   ],
   "source": [
    "# we need a system to match two people up for secret santa. \n",
    "\n",
    "from random import shuffle\n",
    "\n",
    "def random_assign(data:list):\n",
    "    output = {}\n",
    "    shuffle(data)\n",
    "    count = 1\n",
    "    for item in data:            \n",
    "        if count < len(data):\n",
    "            output[item] = data[count]\n",
    "            count += 1\n",
    "        else:\n",
    "            output[item] = data[0]\n",
    "        \n",
    "    return output\n",
    "            \n",
    "def pretty_print(data:dict):\n",
    "    for key, value in data.items():\n",
    "        print(\"{} gets {} a gift\".format(key, value))\n",
    "        \n",
    "# def test():\n",
    "#     from collections import Counter\n",
    "#     cnt = Counter()\n",
    "#     for i in range(0, 2000):\n",
    "#         data = random_assign(['addi', 'chelsea/quin', 'madeleine', 'hayley/andrew', 'alex'])\n",
    "#         for key, value in data.items():\n",
    "#             str_val = \"{} gets {} a gift\".format(key, value)\n",
    "#             cnt[str_val] += 1\n",
    "#     print(cnt)\n",
    "# test()\n",
    "\n",
    "# for i in range(0, 150):    \n",
    "#     data = random_assign(['addi', 'chelsea/quin', 'madeleine', 'hayley/andrew', 'alex'])    \n",
    "#     pretty_print(data)\n",
    "#     print('\\n')"
   ]
  },
  {
   "cell_type": "code",
   "execution_count": null,
   "metadata": {
    "collapsed": true
   },
   "outputs": [],
   "source": []
  },
  {
   "cell_type": "code",
   "execution_count": null,
   "metadata": {
    "collapsed": true
   },
   "outputs": [],
   "source": []
  }
 ],
 "metadata": {
  "kernelspec": {
   "display_name": "Python 3",
   "language": "python",
   "name": "python3"
  },
  "language_info": {
   "codemirror_mode": {
    "name": "ipython",
    "version": 3
   },
   "file_extension": ".py",
   "mimetype": "text/x-python",
   "name": "python",
   "nbconvert_exporter": "python",
   "pygments_lexer": "ipython3",
   "version": "3.5.1"
  }
 },
 "nbformat": 4,
 "nbformat_minor": 1
}
