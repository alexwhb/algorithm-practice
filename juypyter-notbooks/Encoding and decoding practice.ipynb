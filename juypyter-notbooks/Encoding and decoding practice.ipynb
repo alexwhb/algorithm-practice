{
 "cells": [
  {
   "cell_type": "code",
   "execution_count": 69,
   "metadata": {
    "collapsed": false
   },
   "outputs": [],
   "source": [
    "temp = \"gluhtlishjrvbadvyyplkaohavbyjpwolypzavvdlhrvuuleatlzzhnlzdpajoavcpnlulyljpwolyrlfdvykpzaolopkkluzftivsvmklhaoputfmhcvypalovsilpuluk\"\n",
    "\n",
    "alphabet = \"abcdefghijklmnopqrstuvwxyz\"\n",
    "\n",
    "\n",
    "\n",
    "def shift(shift_num):\n",
    "    output = ''\n",
    "    for index, s in enumerate(temp):\n",
    "#         new_index = (shift_num + index) % 25\n",
    "#         new_index = (alphabet.index(s) + sift_num) % 25\n",
    "#         output += alphabet[new_index]\n",
    "#         output.append((alphabet.index(s), (alphabet.index(s) + shift_num)%25))\n",
    "        new_index = (alphabet.index(s) + shift_num)%25\n",
    "        output += alphabet[new_index]\n",
    "\n",
    "    return output\n",
    "    "
   ]
  },
  {
   "cell_type": "code",
   "execution_count": 67,
   "metadata": {
    "collapsed": false
   },
   "outputs": [
    {
     "name": "stdout",
     "output_type": "stream",
     "text": [
      "uajviawhvxgkporknneayodvokpnxeldaneookkravgkjjasoiaoovcaoreoxdokqecajanaxeldangatrknyeoodadeyyajotiwkhkbyavodejitbvqkneoadkhwaejajy\n"
     ]
    }
   ],
   "source": [
    "print(shift(14, temp))"
   ]
  },
  {
   "cell_type": "code",
   "execution_count": 70,
   "metadata": {
    "collapsed": true
   },
   "outputs": [],
   "source": [
    "from ipywidgets import interact, interactive, fixed"
   ]
  },
  {
   "cell_type": "code",
   "execution_count": 71,
   "metadata": {
    "collapsed": false
   },
   "outputs": [
    {
     "data": {
      "text/plain": [
       "'gluhtlishjrvbadvyyplkaohavbyjpwolypaavvdlhrvuuleatlaahnladpajoavcpnlulyljpwolyrlfdvykpaaolopkkluaftivsvmklhaoputfmhcvypalovsilpuluk'"
      ]
     },
     "metadata": {},
     "output_type": "display_data"
    }
   ],
   "source": [
    "interact(shift, shift_num=(0,25))"
   ]
  },
  {
   "cell_type": "code",
   "execution_count": null,
   "metadata": {
    "collapsed": true
   },
   "outputs": [],
   "source": []
  }
 ],
 "metadata": {
  "kernelspec": {
   "display_name": "Python 3",
   "language": "python",
   "name": "python3"
  },
  "language_info": {
   "codemirror_mode": {
    "name": "ipython",
    "version": 3
   },
   "file_extension": ".py",
   "mimetype": "text/x-python",
   "name": "python",
   "nbconvert_exporter": "python",
   "pygments_lexer": "ipython3",
   "version": "3.5.1"
  },
  "widgets": {
   "state": {
    "6b024f9f46994e4a85840c31b5370f70": {
     "views": [
      {
       "cell_index": 3
      }
     ]
    }
   },
   "version": "1.2.0"
  }
 },
 "nbformat": 4,
 "nbformat_minor": 1
}
