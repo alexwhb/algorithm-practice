{
 "cells": [
  {
   "cell_type": "markdown",
   "metadata": {},
   "source": [
    "Given an array of words and a length L, format the text such that each line has exactly L characters and is fully justified on both the left and the right. Words should be packed in a greedy approach; that is, pack as many words as possible in each line. Add extra spaces when necessary so that each line has exactly L characters.\n",
    "\n",
    "Extra spaces between words should be distributed as evenly as possible. If the number of spaces on a line does not divide evenly between words, the empty slots on the left will be assigned more spaces than the slots on the right. For the last line of text and lines with one word only, the words should be left justified with no extra space inserted between them.\n",
    "\n",
    "Example\n",
    "```\n",
    "For\n",
    "words = [\"This\", \"is\", \"an\", \"example\", \"of\", \"text\", \"justification.\"]\n",
    "and L = 16, the output should be\n",
    "```\n",
    "```\n",
    "textJustification(words, L) = [\"This    is    an\",\n",
    "                               \"example  of text\",\n",
    "                               \"justification.  \"]\n",
    "                               ```"
   ]
  },
  {
   "cell_type": "code",
   "execution_count": 88,
   "metadata": {},
   "outputs": [],
   "source": [
    "def textJustification(words, max_width):\n",
    "    res, cur, num_letters = [], [], 0\n",
    "    for w in words:\n",
    "        if num_letters + len(w) + len(cur)  > max_width:\n",
    "            for i in range(max_width - num_letters):\n",
    "                cur[i%(len(cur) -1 or 1)] += \" \"\n",
    "            res.append(''.join(cur))\n",
    "            cur, num_letters = [], 0\n",
    "        cur += [w]\n",
    "        num_letters += len(w)\n",
    "    return res + [' '.join(cur).ljust(max_width)]"
   ]
  },
  {
   "cell_type": "code",
   "execution_count": 90,
   "metadata": {},
   "outputs": [
    {
     "data": {
      "text/plain": [
       "['this   is  an', 'example    of', 'some words   ']"
      ]
     },
     "execution_count": 90,
     "metadata": {},
     "output_type": "execute_result"
    }
   ],
   "source": [
    "textJustification( [\"this\", \"is\", \"an\", \"example\", \"of\", \"some\", \"words\"], 13)"
   ]
  },
  {
   "cell_type": "code",
   "execution_count": 81,
   "metadata": {
    "collapsed": true
   },
   "outputs": [],
   "source": []
  }
 ],
 "metadata": {
  "kernelspec": {
   "display_name": "Python 3",
   "language": "python",
   "name": "python3"
  },
  "language_info": {
   "codemirror_mode": {
    "name": "ipython",
    "version": 3
   },
   "file_extension": ".py",
   "mimetype": "text/x-python",
   "name": "python",
   "nbconvert_exporter": "python",
   "pygments_lexer": "ipython3",
   "version": "3.4.3"
  }
 },
 "nbformat": 4,
 "nbformat_minor": 2
}
