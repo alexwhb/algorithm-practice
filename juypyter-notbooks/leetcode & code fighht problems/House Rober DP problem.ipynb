{
 "cells": [
  {
   "cell_type": "code",
   "execution_count": 79,
   "metadata": {
    "collapsed": true
   },
   "outputs": [],
   "source": [
    "test = [1, 5, 2, 4, 1, 6]\n",
    "test2 = [1,1,1]\n",
    "test3 = [2,4,2]"
   ]
  },
  {
   "cell_type": "code",
   "execution_count": 92,
   "metadata": {},
   "outputs": [],
   "source": [
    "def houseRober(nums):\n",
    "    a = 0\n",
    "    b = 0\n",
    "    for i in range(0, len(nums)):\n",
    "        if i % 2 == 0:\n",
    "            a = max(a+nums[i], b)\n",
    "        else:\n",
    "            b = max(a, b+nums[i])\n",
    "    return max(a, b)"
   ]
  },
  {
   "cell_type": "code",
   "execution_count": 93,
   "metadata": {},
   "outputs": [
    {
     "data": {
      "text/plain": [
       "15"
      ]
     },
     "execution_count": 93,
     "metadata": {},
     "output_type": "execute_result"
    }
   ],
   "source": [
    "temp(test)"
   ]
  }
 ],
 "metadata": {
  "kernelspec": {
   "display_name": "Python 3",
   "language": "python",
   "name": "python3"
  },
  "language_info": {
   "codemirror_mode": {
    "name": "ipython",
    "version": 3
   },
   "file_extension": ".py",
   "mimetype": "text/x-python",
   "name": "python",
   "nbconvert_exporter": "python",
   "pygments_lexer": "ipython3",
   "version": "3.4.3"
  }
 },
 "nbformat": 4,
 "nbformat_minor": 2
}
