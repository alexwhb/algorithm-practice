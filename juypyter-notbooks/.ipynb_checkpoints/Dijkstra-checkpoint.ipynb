{
 "cells": [
  {
   "cell_type": "code",
   "execution_count": 110,
   "metadata": {
    "collapsed": true
   },
   "outputs": [],
   "source": [
    "# ref: http://stackoverflow.com/questions/22897209/dijkstras-algorithm-in-python\n",
    "graph = ({'A', 'B', 'C', 'D'}, {('A', 'B', 5), ('B', 'A', 5), ('B', 'C', 10), ('B', 'D', 6), ('C', 'D', 2), ('D', 'C', 2)})"
   ]
  },
  {
   "cell_type": "code",
   "execution_count": 113,
   "metadata": {},
   "outputs": [],
   "source": [
    "def minimum_distance(dist, queue):\n",
    "    # there's deffinatly a better way to do this..\n",
    "    lowest = float(\"inf\")\n",
    "    newKey = None\n",
    "    for key, value in dist.items():\n",
    "        if lowest > value and key in queue:\n",
    "            newKey = key\n",
    "            lowest = value\n",
    "    \n",
    "    return newKey\n",
    "\n",
    "def get_neighbors(graph, u):\n",
    "    verticies, edges = graph\n",
    "    neighbors = set()\n",
    "    for start, end, weight in edges:\n",
    "        if start == u:\n",
    "            neighbors.add(end)\n",
    "    return neighbors\n",
    "        \n",
    "def distince_between(graph, u, v):\n",
    "    verticies, edges = graph\n",
    "    for start, end, weight in edges:\n",
    "        if start == u and end == v:\n",
    "            return weight\n",
    "    \n",
    "def dijkstra(graph, source):\n",
    "    verticies, edges = graph\n",
    "    dist = dict()\n",
    "    previous = dict()\n",
    "    \n",
    "    for vertex in verticies:\n",
    "        dist[vertex] = float(\"inf\")\n",
    "        previous[vertex] = None\n",
    "        \n",
    "    dist[source] = 0\n",
    "    queue = set(verticies)\n",
    "    \n",
    "    while len(queue) > 0:\n",
    "        u = minimum_distance(dist, queue)\n",
    "        queue.remove(u)\n",
    "        \n",
    "        print('Currently considering', u, 'with a distance of', dist[u])\n",
    "        \n",
    "        if dist[u] == float(\"inf\"):\n",
    "            break \n",
    "        \n",
    "        neighbors = get_neighbors(graph, u)\n",
    "        \n",
    "        for vertex in neighbors:\n",
    "            alt = dist[u] + distince_between(graph, u, vertex)\n",
    "            if alt < dist[vertex]:\n",
    "                dist[vertex] = alt\n",
    "                previous[vertex] = u\n",
    "    return previous"
   ]
  },
  {
   "cell_type": "code",
   "execution_count": 112,
   "metadata": {},
   "outputs": [
    {
     "name": "stdout",
     "output_type": "stream",
     "text": [
      "Currently considering A with a distance of 0\n",
      "Currently considering B with a distance of 5\n",
      "Currently considering D with a distance of 11\n",
      "Currently considering C with a distance of 13\n",
      "{'B': 'A', 'D': 'B', 'C': 'D', 'A': None}\n"
     ]
    }
   ],
   "source": [
    "print(dijkstra(graph, 'A'))"
   ]
  },
  {
   "cell_type": "code",
   "execution_count": null,
   "metadata": {
    "collapsed": true
   },
   "outputs": [],
   "source": []
  }
 ],
 "metadata": {
  "kernelspec": {
   "display_name": "Python 3",
   "language": "python",
   "name": "python3"
  },
  "language_info": {
   "codemirror_mode": {
    "name": "ipython",
    "version": 3
   },
   "file_extension": ".py",
   "mimetype": "text/x-python",
   "name": "python",
   "nbconvert_exporter": "python",
   "pygments_lexer": "ipython3",
   "version": "3.4.3"
  }
 },
 "nbformat": 4,
 "nbformat_minor": 2
}
