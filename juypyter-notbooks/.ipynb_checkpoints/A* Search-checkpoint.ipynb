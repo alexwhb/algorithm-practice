{
 "cells": [
  {
   "cell_type": "markdown",
   "metadata": {},
   "source": [
    "## A* \n",
    "\n",
    "A star is basicly the genrailzation of Dijkstra's graph traversial alogrithem. It allows you to treverse a graph using weighted edges, but it uses a heristic function of your choosing to guess what the cost will be from the current node to the goal, base on data.. this weight must be less than or equal to the actual value of the of that path so as to keep the algorithem efficent and accurate. If the heristic is always less than the actual value, but close to it, you will get a speed boost over dijkstra in most cases, and you'll end up with the same acuracy with a shortest path that actually is the shortest path. The heristic can be anything from physical distances (if you are building a game for instance) to something less physical, like road speeds for instance... if you are building a google maps type of app. You could use the heristic to weight your edges depending on what the data is. \n",
    "\n",
    "If the heristic for A* is too high you end up with best first search, which is maybe faster, but really inaccurate. And if you heristic is really under estomating, then you pretty much end up with dijkstra all over again. \n"
   ]
  },
  {
   "cell_type": "code",
   "execution_count": 29,
   "metadata": {
    "collapsed": false
   },
   "outputs": [],
   "source": [
    "graph = ({'A', 'B', 'C', 'D', 'E'}, {('A', 'B', 1), ('B', 'D', 30), ('B', 'C', 7), ('C', 'D', 6), ('C', 'E', 5), ('D', 'E', 20)})"
   ]
  },
  {
   "cell_type": "code",
   "execution_count": 25,
   "metadata": {
    "collapsed": false
   },
   "outputs": [],
   "source": [
    "# ref: http://www.redblobgames.com/pathfinding/a-star/implementation.html\n",
    "import heapq\n",
    "\n",
    "class PriorityQueue:\n",
    "    def __init__(self):\n",
    "        self.elements = []\n",
    "    \n",
    "    def empty(self):\n",
    "        return len(self.elements) == 0\n",
    "    \n",
    "    def put(self, item, priority):\n",
    "        heapq.heappush(self.elements, (priority, item))\n",
    "    \n",
    "    def get(self):\n",
    "        return heapq.heappop(self.elements)[1]\n",
    "\n",
    "\n",
    "def get_cost(graph, u, v):\n",
    "    verticies, edges = graph\n",
    "    for start, end, weight in edges:\n",
    "        if start == u and end == v:\n",
    "            return weight\n",
    "\n",
    "def get_neighbors(graph, u):\n",
    "    verticies, edges = graph\n",
    "    neighbors = set()\n",
    "    for start, end, weight in edges:\n",
    "        if start == u:\n",
    "            neighbors.add(end)\n",
    "    return neighbors\n",
    "\n",
    "def heuristic(a, b): # this is very wrong for a real application... todo update this. \n",
    "    return 1\n",
    "\n",
    "def AStar(graph, start, goal):\n",
    "    frontier = PriorityQueue()\n",
    "    frontier.put(start, 0)\n",
    "    came_from = {}\n",
    "    cost_so_far = {}\n",
    "    came_from[start] = None\n",
    "    cost_so_far[start] = 0\n",
    "    \n",
    "    while not frontier.empty():\n",
    "        \n",
    "        current = frontier.get()\n",
    "        \n",
    "        for next in get_neighbors(graph, current):\n",
    "            new_cost = cost_so_far[current] + get_cost(graph, current, next)\n",
    "            if next not in cost_so_far or new_cost < cost_so_far[next]:\n",
    "                cost_so_far[next] = new_cost\n",
    "                priority = new_cost + heuristic(goal, next)\n",
    "                frontier.put(next, priority)\n",
    "                came_from[next] = current\n",
    "                \n",
    "    return came_from, cost_so_far"
   ]
  },
  {
   "cell_type": "code",
   "execution_count": 30,
   "metadata": {
    "collapsed": false
   },
   "outputs": [
    {
     "data": {
      "text/plain": [
       "({'A': None, 'B': 'A', 'C': 'B', 'D': 'C', 'E': 'C'},\n",
       " {'A': 0, 'B': 1, 'C': 8, 'D': 14, 'E': 13})"
      ]
     },
     "execution_count": 30,
     "metadata": {},
     "output_type": "execute_result"
    }
   ],
   "source": [
    "AStar(graph, 'A', 'E')"
   ]
  },
  {
   "cell_type": "code",
   "execution_count": null,
   "metadata": {
    "collapsed": true
   },
   "outputs": [],
   "source": []
  }
 ],
 "metadata": {
  "kernelspec": {
   "display_name": "Python 3",
   "language": "python",
   "name": "python3"
  },
  "language_info": {
   "codemirror_mode": {
    "name": "ipython",
    "version": 3
   },
   "file_extension": ".py",
   "mimetype": "text/x-python",
   "name": "python",
   "nbconvert_exporter": "python",
   "pygments_lexer": "ipython3",
   "version": "3.5.1"
  }
 },
 "nbformat": 4,
 "nbformat_minor": 1
}
