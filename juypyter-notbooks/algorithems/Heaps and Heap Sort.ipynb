{
 "cells": [
  {
   "cell_type": "markdown",
   "metadata": {},
   "source": [
    "# Heaps and Heap Sort:\n",
    "\n",
    "In this I'm going to go through the implamentation of the a heap and a heap sort. A heap is just a list that you can visulize as a binary tree structure. \n",
    "\n",
    "for a heap to be valid it must each node must be less than it's parent node. \n",
    "\n",
    "           66\n",
    "          /  \\\n",
    "         44   33\n",
    "        /  \\  \n",
    "       25  20\n",
    "       \n",
    "This is actually stored in an array usually, for reduced memory concuption and simplicity. In the array representation these elements woulb be: [66, 44, 33, 25, 20]. it's from right to left, top to bottom. \n",
    "\n",
    "to get the relitive root of your current node (assuming it's not the root): floor((current node index - 1)/2)\n",
    "to get the left child: (2 * current node index + 1)\n",
    "to get the right child (2 * current node index + 2) \n",
    "\n",
    "Note: heaps are not orderd like BST's where there's an implied, right is greater than left, relatiohsip. In a heap there are two possible oreantations: Max Heap, or Min Heap. Max heap is where every parent node is greater than or equal to the child nodes. Min Heap is the oppisite. \n",
    "\n",
    "the [wiki artical](https://en.wikipedia.org/wiki/Heap_(data_structure)) on Heaps is very helpful. Also [this](https://www.youtube.com/watch?v=v1YUApMYXO4) youtube video was vary useful. \n",
    "\n"
   ]
  },
  {
   "cell_type": "code",
   "execution_count": 14,
   "metadata": {
    "collapsed": false
   },
   "outputs": [
    {
     "name": "stdout",
     "output_type": "stream",
     "text": [
      "[99, 81, 85, 15, 20, 25, 17, 14, 8, 1, 5, 10, 9, 12]\n",
      "[1, 5, 8, 9, 10, 12, 14, 15, 17, 20, 25, 81, 85, 99]\n"
     ]
    }
   ],
   "source": [
    "import random\n",
    "\n",
    "heap_input_list = []\n",
    "for i in range(0, 15):\n",
    "    heap_input_list.append(random.randint(0, 100)) # pick a random integer nuber between 0 and 100 and add it to our test array\n",
    "\n",
    "# A right bitshift by one is equevelnet to dooubling a noumber. \n",
    "# A left bit shift is equvelent to deviding by two (obviously only in an integer way)???? \n",
    "\n",
    "class Heap(object):\n",
    "    def __init__(self, input: list):\n",
    "        self.heap = input\n",
    "        self.n = len(self.heap) - 1\n",
    "        self.heapify()\n",
    "\n",
    "    def __repr__(self):\n",
    "        return str(self.heap)\n",
    "\n",
    "    @staticmethod\n",
    "    def parent(index: int):\n",
    "        return (index - 1) >> 1\n",
    "\n",
    "    @staticmethod\n",
    "    def left_child(index: int):\n",
    "        return (index << 1) + 1\n",
    "\n",
    "    @staticmethod\n",
    "    def right_child(index: int):\n",
    "        return (index << 1) + 2\n",
    "\n",
    "    def max_heapify(self, index):\n",
    "        # heap_size = len(self.heap)\n",
    "        left_idx = self.left_child(index)\n",
    "        right_idx = self.right_child(index)\n",
    "\n",
    "        if left_idx < self.n and right_idx < self.n:\n",
    "            if self.heap[index] < self.heap[right_idx] or self.heap[index] < self.heap[left_idx]:\n",
    "                if self.heap[left_idx] > self.heap[right_idx]:\n",
    "                    self.swap(left_idx, index)\n",
    "                    self.max_heapify(left_idx)\n",
    "                else:\n",
    "                    self.swap(right_idx, index)\n",
    "                    self.max_heapify(right_idx)\n",
    "        elif left_idx < self.n and self.heap[index] < self.heap[left_idx]:\n",
    "            self.swap(left_idx, index)\n",
    "\n",
    "    def swap(self, index1, index2):\n",
    "        temp = self.heap[index1]\n",
    "        self.heap[index1] = self.heap[index2]\n",
    "        self.heap[index2] = temp\n",
    "\n",
    "    def heapify(self):\n",
    "        last_root = self.parent(len(self.heap) - 1)\n",
    "        for i in range(last_root, -1, -1):\n",
    "            self.max_heapify(index=i)\n",
    "\n",
    "    def is_valid(self):\n",
    "        index = len(self.heap) - 1\n",
    "        while index > -1:\n",
    "            parent_index = self.parent(index)\n",
    "\n",
    "            if parent_index > -1:\n",
    "                if self.heap[index] > self.heap[parent_index]:\n",
    "                    return False\n",
    "            index -= 1\n",
    "        return True\n",
    "\n",
    "    # heap sort is dead simple once you get the basic heap implementation in place. \n",
    "    def sort(self):\n",
    "        for i in range(self.n, 1, -1):\n",
    "            self.swap(0, i)\n",
    "            self.n -= 1\n",
    "            self.max_heapify(0)\n",
    "        # reset n\n",
    "        self.n = len(self.heap)\n",
    "\n",
    "        \n",
    "temp = [1, 5, 10, 15, 20, 25, 17, 14, 8, 99, 81, 85, 9, 12]\n",
    "heap = Heap(temp)\n",
    "print(heap)\n",
    "# print(heap.is_valid())\n",
    "heap.sort()\n",
    "print(heap)\n",
    "        \n"
   ]
  },
  {
   "cell_type": "code",
   "execution_count": null,
   "metadata": {
    "collapsed": true
   },
   "outputs": [],
   "source": []
  }
 ],
 "metadata": {
  "kernelspec": {
   "display_name": "Python 3",
   "language": "python",
   "name": "python3"
  },
  "language_info": {
   "codemirror_mode": {
    "name": "ipython",
    "version": 3
   },
   "file_extension": ".py",
   "mimetype": "text/x-python",
   "name": "python",
   "nbconvert_exporter": "python",
   "pygments_lexer": "ipython3",
   "version": "3.5.1"
  }
 },
 "nbformat": 4,
 "nbformat_minor": 1
}
