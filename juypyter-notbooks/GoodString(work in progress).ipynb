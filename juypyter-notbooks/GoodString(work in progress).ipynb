{
 "cells": [
  {
   "cell_type": "markdown",
   "metadata": {},
   "source": [
    "Given an integer len, count the number of different good strings that have a length of exactly len. A good string is a string for which the following conditions are true:\n",
    "\n",
    "A good string contains only lowercase English letters.\n",
    "Each character in a good string is unique.\n",
    "Exactly one character in a good string is lexicographically greater than the character that precedes it.\n",
    "Example\n",
    "\n",
    "For len = 2, the output should be\n",
    "goodStringsCount(len) = 325.\n",
    "\n",
    "If the first symbol is 'a', there are 25 possible good strings: \"ab\", \"ac\", ...\n",
    "If the first symbol is 'b', there are 24 possible good strings: \"bc\", \"bd\", ...\n",
    "...\n",
    "If the first symbol is 'z', there are 0 possible good strings because there is no character that is lexicographically greater.\n",
    "There are 25 + 24 + 23 + ... + 0 = 325 good strings that have a length of 2.\n",
    "\n",
    "For len = 1, the output should be\n",
    "goodStringsCount(len) = 0.\n",
    "\n",
    "The 3rd rule for good strings can't be true if there is only one character in the string.\n",
    "\n",
    "Input/Output\n",
    "\n",
    "[time limit] 4000ms (py3)\n",
    "[input] integer len\n",
    "\n",
    "The length of good strings that you're looking for.\n",
    "\n",
    "Guaranteed constraints:\n",
    "1 ≤ len ≤ 9.\n",
    "\n",
    "[output] integer\n",
    "\n",
    "The number of different good strings with a length of exactly len."
   ]
  },
  {
   "cell_type": "code",
   "execution_count": 2,
   "metadata": {
    "collapsed": true
   },
   "outputs": [],
   "source": [
    "def goodStringsCount(len):\n",
    "    if len == 0:\n",
    "        return 0\n",
    "    else:\n",
    "        pass\n",
    "def temp(val):\n",
    "    if val > 0:\n",
    "        return val + temp(val -1)\n",
    "    else: \n",
    "        return 0 "
   ]
  },
  {
   "cell_type": "code",
   "execution_count": 13,
   "metadata": {
    "collapsed": false
   },
   "outputs": [
    {
     "data": {
      "text/plain": [
       "1225"
      ]
     },
     "execution_count": 13,
     "metadata": {},
     "output_type": "execute_result"
    }
   ],
   "source": [
    "temp(49)\n"
   ]
  },
  {
   "cell_type": "code",
   "execution_count": null,
   "metadata": {
    "collapsed": true
   },
   "outputs": [],
   "source": []
  }
 ],
 "metadata": {
  "kernelspec": {
   "display_name": "Python 3",
   "language": "python",
   "name": "python3"
  },
  "language_info": {
   "codemirror_mode": {
    "name": "ipython",
    "version": 3
   },
   "file_extension": ".py",
   "mimetype": "text/x-python",
   "name": "python",
   "nbconvert_exporter": "python",
   "pygments_lexer": "ipython3",
   "version": "3.5.1"
  }
 },
 "nbformat": 4,
 "nbformat_minor": 2
}
