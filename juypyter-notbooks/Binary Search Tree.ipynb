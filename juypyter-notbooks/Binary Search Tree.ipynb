{
 "cells": [
  {
   "cell_type": "markdown",
   "metadata": {},
   "source": [
    "# Binary Search Trees (BST)\n",
    "Binary Search trees are a data structure that has many advantages over arrays and linked lists. With a binary search tree you are able to both treverse the tree fast to find nodes, and you can insert and delete nodse much faster than in an array, because you don't have to traverse the whole array and move each element to the fill the blank space. They also can work as a sorting algorithem that is very effecent. O(nlog(n))\n",
    "\n",
    "BST are binary... meaning they have two children per node... a right and a left. The rule with a BST is that all children to the left of the node must equal to or smalller than the value stored in the parent node. All the values in the right node must be greater than the parent node. \n",
    "\n",
    "Now BST's are not ideal if they are very very unballanced, which can happen fairly easily, so there are lots of algorithems to not let the trees get too unblananced and force the hight to be more reasnible, which increases traversal effecency. \n",
    "\n",
    "there is a possiblity that a BST that is not ballenced with some algorithem, could potentally just turn into a linked list, where your lookup time will end up being linear time, which is not good in this case. \n",
    "\n"
   ]
  },
  {
   "cell_type": "code",
   "execution_count": 7,
   "metadata": {
    "collapsed": true
   },
   "outputs": [],
   "source": [
    "class Node(object):\n",
    "    def __init__(self, value=None):\n",
    "        self.value = value        \n",
    "        self.lChild = None\n",
    "        self.rChild = None"
   ]
  },
  {
   "cell_type": "code",
   "execution_count": 34,
   "metadata": {
    "collapsed": false
   },
   "outputs": [],
   "source": [
    "class Tree(object):\n",
    "    def __init__(self):\n",
    "        self.size = 0\n",
    "        self.root = None\n",
    "        \n",
    "    def insert(self, root, node):\n",
    "        if root is None:\n",
    "            root = Node()\n",
    "        else:\n",
    "            if root.value > node.value:\n",
    "                if root.lChild is None:\n",
    "                    root.lChild = node\n",
    "                else:\n",
    "                    self.insert(root.lChild, node)\n",
    "            else:\n",
    "                if root.rChild is None: \n",
    "                    root.rChild = node\n",
    "                else:\n",
    "                    self.insert(root.rChild, node)\n",
    "        \n",
    "    def in_order_print(self, root):\n",
    "        if root is None: \n",
    "            return\n",
    "        else:\n",
    "            self.in_order_print(root.lChild)\n",
    "            print(root.value)\n",
    "            self.in_order_print(root.rChild)\n",
    "            "
   ]
  },
  {
   "cell_type": "code",
   "execution_count": 35,
   "metadata": {
    "collapsed": false
   },
   "outputs": [
    {
     "name": "stdout",
     "output_type": "stream",
     "text": [
      "3\n",
      "12\n",
      "33\n",
      "50\n",
      "65\n",
      "88\n",
      "93\n"
     ]
    }
   ],
   "source": [
    "root = Node(50)\n",
    "n2 = Node(30)\n",
    "n3 = Node(70)\n",
    "n4 = Node(65)\n",
    "n5 = Node(55)\n",
    "\n",
    "tree = Tree()\n",
    "\n",
    "tree.insert(root, Node(93))\n",
    "tree.insert(root, Node(33))\n",
    "tree.insert(root, Node(88))\n",
    "tree.insert(root, Node(65))\n",
    "tree.insert(root, Node(3))\n",
    "tree.insert(root, Node(12))\n",
    "\n",
    "# print(root.lChild.value)\n",
    "tree.in_order_print(root)\n"
   ]
  },
  {
   "cell_type": "markdown",
   "metadata": {
    "collapsed": true
   },
   "source": [
    "# The AVL method of bllencing BST's:\n",
    "[Here](https://interactivepython.org/runestone/static/pythonds/Trees/AVLTreeImplementation.html) is the awesome resource I used to solidify my understanding of this info. [Here's a video on AVL trees](https://www.youtube.com/watch?v=rbg7Qf8GkQ4)\n",
    "\n",
    "Basicly the concept behind AVL trees is that you set a value for the hight of each node in the tree. If any side of the tree has a hight grater than the oppiste side by more than one we have to move nodes around in such a way that we satisife that condition. \n",
    "\n",
    "There are 4 types of cases where we need rotations: right right, right left, left left, left right. In each of these cases we do a diferent mode of rotation to keep the tree ballenced. \n",
    "\n",
    "There are two base cases to this, because this process is recursive: \n",
    "   * The recursive call has reached the root of the tree.\n",
    "   * The balance factor of the parent has been adjusted to zero. You should convince yourself that once a subtree has a balance   factor of zero, then the balance of its ancestor nodes does not change.\n"
   ]
  },
  {
   "cell_type": "code",
   "execution_count": null,
   "metadata": {
    "collapsed": true
   },
   "outputs": [],
   "source": [
    "class Node(object):\n",
    "    def __init__(self, value, parrent):\n",
    "        self.value = value\n",
    "        self.parrent = parrent\n",
    "        self.rightChild = None\n",
    "        self.leftChile = None\n",
    "\n",
    "class AvlBst(object):\n",
    "    def __init__(self):\n",
    "        self.root = None\n",
    "        self.size = 0\n",
    "    \n",
    "    def add(self, node:Node):\n",
    "        if self.root is None:\n",
    "            self.root = node\n",
    "        else:\n",
    "            pass\n",
    "    \n",
    "    def find(self, value) -> Node:\n",
    "        pass\n",
    "    \n",
    "    def remove(self, node):\n",
    "        pass\n",
    "    \n",
    "    @property\n",
    "    def height(self) -> int:\n",
    "        pass\n",
    "    \n",
    "    @property\n",
    "    def ballance_factor(self) -> int:\n",
    "        pass"
   ]
  }
 ],
 "metadata": {
  "kernelspec": {
   "display_name": "Python 3",
   "language": "python",
   "name": "python3"
  },
  "language_info": {
   "codemirror_mode": {
    "name": "ipython",
    "version": 3
   },
   "file_extension": ".py",
   "mimetype": "text/x-python",
   "name": "python",
   "nbconvert_exporter": "python",
   "pygments_lexer": "ipython3",
   "version": "3.5.1"
  }
 },
 "nbformat": 4,
 "nbformat_minor": 1
}
